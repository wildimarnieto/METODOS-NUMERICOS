{
 "cells": [
  {
   "cell_type": "markdown",
   "metadata": {},
   "source": [
    "# sdadasdasdasd\n"
   ]
  },
  {
   "cell_type": "code",
   "execution_count": 32,
   "metadata": {
    "collapsed": false
   },
   "outputs": [
    {
     "name": "stdout",
     "output_type": "stream",
     "text": [
      "metodo numerico: 2\n",
      "metodo numerico: 4\n",
      "metodo numerico: 6\n",
      "metodo numerico: 8\n",
      "metodo numerico: 10\n",
      "metodo numerico: 12\n",
      "metodo numerico: 14\n",
      "metodo numerico: 16\n",
      "metodo numerico: 18\n",
      "metodo numerico: 20\n",
      "metodo numerico: 22\n",
      "metodo numerico: 24\n",
      "metodo numerico: 26\n",
      "metodo numerico: 28\n",
      "metodo numerico: 30\n",
      "metodo numerico: 32\n",
      "metodo numerico: 34\n",
      "metodo numerico: 36\n",
      "metodo numerico: 38\n",
      "metodo numerico: 40\n",
      "metodo numerico: 42\n",
      "metodo numerico: 44\n",
      "metodo numerico: 46\n",
      "metodo numerico: 48\n",
      "metodo numerico: 50\n",
      "metodo numerico: 52\n",
      "metodo numerico: 54\n",
      "metodo numerico: 56\n",
      "metodo numerico: 58\n",
      "metodo numerico: 60\n"
     ]
    }
   ],
   "source": [
    "import math\n",
    "import pylab as plt\n",
    "vertorx1=[];\n",
    "vectory1=[];\n",
    "vectorx=[]\n",
    "vectory=[]\n",
    "ver=0\n",
    "g=9.8\n",
    "m=68.1\n",
    "c=12.5\n",
    "ti=0\n",
    "tii=0\n",
    "v_an=0\n",
    "for t in range(30):\n",
    "    v=((g*m)/c)*(1-math.exp((-c/m)*t))\n",
    "    vectorx.append(t)\n",
    "    vectory.append(v)\n",
    "    ti=ti+2\n",
    "    vertorx1.append(ti);\n",
    "    vectory1.append(ver);\n",
    "    ver=round(v_an,2)\n",
    "    v_n=v_an+(g-(c/m)*v_an)*(ti-tii)\n",
    "    v_an=v_n\n",
    "    tii=ti\n",
    "    print (\"metodo numerico: \"+str(ti))\n",
    "plt.plot(vertorx1,vectory1,'g')\n",
    "plt.plot(vectorx,vectory,'*')\n",
    "plt.xlabel('(t)')\n",
    "plt.ylabel('V(t)')\n",
    "plt.title('Paracaidista')\n",
    "plt.grid(True)\n",
    "plt.savefig(\"test.png\")\n",
    "plt.show()"
   ]
  },
  {
   "cell_type": "code",
   "execution_count": null,
   "metadata": {
    "collapsed": true
   },
   "outputs": [],
   "source": []
  }
 ],
 "metadata": {
  "kernelspec": {
   "display_name": "Python 2",
   "language": "python",
   "name": "python2"
  },
  "language_info": {
   "codemirror_mode": {
    "name": "ipython",
    "version": 2
   },
   "file_extension": ".py",
   "mimetype": "text/x-python",
   "name": "python",
   "nbconvert_exporter": "python",
   "pygments_lexer": "ipython2",
   "version": "2.7.10"
  }
 },
 "nbformat": 4,
 "nbformat_minor": 0
}
