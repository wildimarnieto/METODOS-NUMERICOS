{
 "cells": [
  {
   "cell_type": "code",
   "execution_count": 1,
   "metadata": {
    "collapsed": false
   },
   "outputs": [
    {
     "name": "stdout",
     "output_type": "stream",
     "text": [
      "| Valor verdadero |  Valor aproximado | Error verdadero | Error relativo %  |\n",
      "|       0.743053 |         0.743053 | 9.99200722163e-16 | 1.34472335373e-13%|\n"
     ]
    }
   ],
   "source": [
    "apro=0\n",
    "x=1.37\n",
    "ec1=x**3-7*x**2+8*x+0.35\n",
    "ec2=((x-7)*x+8)*x+0.35\n",
    "error_verdadero=ec1-ec2\n",
    "error_relativo_p=(error_verdadero/ec1)*100\n",
    "error_soportado=(0.5*10**(2-apro))\n",
    "    \n",
    "print'|{0:15} |  {1:15} | {2:15} | {3:15} |'.format(' Valor verdadero','Valor aproximado','Error verdadero','Error relativo % ' )\n",
    "print'|{0:15} |  {1:15} | {2:15} | {3:15}%|'.format(ec1,ec2,error_verdadero,error_relativo_p)"
   ]
  },
  {
   "cell_type": "code",
   "execution_count": null,
   "metadata": {
    "collapsed": true
   },
   "outputs": [],
   "source": []
  }
 ],
 "metadata": {
  "kernelspec": {
   "display_name": "Python 2",
   "language": "python",
   "name": "python2"
  },
  "language_info": {
   "codemirror_mode": {
    "name": "ipython",
    "version": 2
   },
   "file_extension": ".py",
   "mimetype": "text/x-python",
   "name": "python",
   "nbconvert_exporter": "python",
   "pygments_lexer": "ipython2",
   "version": "2.7.11"
  }
 },
 "nbformat": 4,
 "nbformat_minor": 0
}
