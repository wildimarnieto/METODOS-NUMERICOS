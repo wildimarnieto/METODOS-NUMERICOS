{
 "cells": [
  {
   "cell_type": "code",
   "execution_count": 1,
   "metadata": {
    "collapsed": false
   },
   "outputs": [
    {
     "name": "stdout",
     "output_type": "stream",
     "text": [
      "               |  0.3 0.52    1 : -0.01 |\n",
      "Matriz A =     |  0.5    1  1.9 :  0.67 |\n",
      "               |  0.1  0.3  0.5 : -0.44 |\n",
      "\n",
      "A1=   -0.07\n",
      "A1=   0.06\n",
      "A1=   0.05\n",
      "\n",
      "Determinante= -0.0022\n",
      "X1=   -14.9\n",
      "X2=   -29.5\n",
      "X3=    19.8\n"
     ]
    }
   ],
   "source": [
    "from math import *\n",
    "a11=0.3\n",
    "a12=0.52\n",
    "a13=1\n",
    "b1=-0.01\n",
    "a21=0.5\n",
    "a22=1\n",
    "a23=1.9\n",
    "b2=0.67\n",
    "a31=0.1\n",
    "a32=0.3\n",
    "a33=0.5\n",
    "b3=-0.44\n",
    "X=[]\n",
    "\n",
    "A1=round(a22*a33-a32*a23,2)\n",
    "A2=round(a21*a33-a31*a23,2)\n",
    "A3=round(a21*a32-a31*a22,2)\n",
    "X11=round(a22*a33-a32*a23,4)\n",
    "X12=round(b2*a33-b3*a23,4)\n",
    "X13=round(b2*a32-b3*a22,4)\n",
    "X21=round(b2*a33-b3*a23,4)\n",
    "X22=round(a21*a33-a31*a23,4)\n",
    "X23=round(a21*b3-a31*b2,4)\n",
    "X31=round(a22*b3-a32*b2,4)\n",
    "X32=round(a21*b3-a31*b2,4)\n",
    "X33=round(a21*a32-a31*a22,4)\n",
    "Determinante=round(a11*A1-a12*A2+a13*A3,4)\n",
    "DeterminanteX1=round(b1*X11-a12*X12+a13*X13,6)\n",
    "DeterminanteX2=round(a11*X21-b1*X22+a13*X23,6)\n",
    "DeterminanteX3=round(a11*X31-a12*X32+b1*X33,6)\n",
    "\n",
    "print (\"{0:15}|{1:5}{2:5}{3:5} : {4:5} |\".format(\"\",a11,a12,a13,b1));\n",
    "print (\"{0:15}|{1:5}{2:5}{3:5} : {4:5} |\".format(\"Matriz A =\",a21,a22,a23,b2));\n",
    "print (\"{0:15}|{1:5}{2:5}{3:5} : {4:5} |\".format(\"\",a31,a32,a33,b3));\n",
    "\n",
    "\n",
    "print (\"\\n{0:5} {1:1}\".format(\"A1=\",A1));\n",
    "\n",
    "print (\"{0:5} {1:1}\".format(\"A1=\",A2));\n",
    "\n",
    "print (\"{0:5} {1:1}\".format(\"A1=\",A3));\n",
    "\n",
    "print (\"\\n{0:5} {1:1}\".format(\"Determinante=\",Determinante));\n",
    "\n",
    "print (\"{0:5} {1:5}\".format(\"X1=\",round(DeterminanteX1/Determinante,2)));\n",
    "\n",
    "print (\"{0:5} {1:5}\".format(\"X2=\",round(DeterminanteX2/Determinante,2)));\n",
    "\n",
    "print (\"{0:5} {1:5}\".format(\"X3=\",round(DeterminanteX3/Determinante,2)));"
   ]
  },
  {
   "cell_type": "code",
   "execution_count": null,
   "metadata": {
    "collapsed": true
   },
   "outputs": [],
   "source": []
  }
 ],
 "metadata": {
  "kernelspec": {
   "display_name": "Python 2",
   "language": "python",
   "name": "python2"
  },
  "language_info": {
   "codemirror_mode": {
    "name": "ipython",
    "version": 2
   },
   "file_extension": ".py",
   "mimetype": "text/x-python",
   "name": "python",
   "nbconvert_exporter": "python",
   "pygments_lexer": "ipython2",
   "version": "2.7.11"
  }
 },
 "nbformat": 4,
 "nbformat_minor": 0
}
