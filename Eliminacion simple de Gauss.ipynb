{
 "cells": [
  {
   "cell_type": "code",
   "execution_count": 1,
   "metadata": {
    "collapsed": false
   },
   "outputs": [
    {
     "name": "stdout",
     "output_type": "stream",
     "text": [
      "Digite el numero de ecuaciones:4\n",
      "ingrese la Ecuacion 1\n",
      "X 1 1\n",
      "X 2 -2\n",
      "X 3 2\n",
      "X 4 -3\n",
      "ingresar el valor B: 15\n",
      "ingrese la Ecuacion 2\n",
      "X 1 3\n",
      "X 2 4\n",
      "X 3 -1\n",
      "X 4 1\n",
      "ingresar el valor B: -6\n",
      "ingrese la Ecuacion 3\n",
      "X 1 2\n",
      "X 2 -3\n",
      "X 3 2\n",
      "X 4 -1\n",
      "ingresar el valor B: 17\n",
      "ingrese la Ecuacion 4\n",
      "X 1 1\n",
      "X 2 1\n",
      "X 3 -3\n",
      "X 4 -2\n",
      "ingresar el valor B: -7\n",
      "Sistema Ecuaciones Propuesto:\n",
      "Matriz A:\n",
      "[[ 1 -2  2 -3 15]\n",
      " [ 3  4 -1  1 -6]\n",
      " [ 2 -3  2 -1 17]\n",
      " [ 1  1 -3 -2 -7]] \n",
      "\n",
      "Resultados:\n",
      "\n",
      "Matriz A (Eliminacion hacia adelante):\n",
      "[[  1  -2   2  -3  15]\n",
      " [  0  10  -7  10 -51]\n",
      " [  0   0  -1   4  -7]\n",
      " [  0   0   0 -10   8]]\n",
      "\n",
      " Matriz A (Sustitucion hacia atras):\n",
      "[[ 1.72]\n",
      " [-1.64]\n",
      " [ 3.8 ]\n",
      " [-0.8 ]]\n"
     ]
    }
   ],
   "source": [
    "import numpy as np\n",
    "X = np.zeros((4,1))\n",
    "#A = np.array([[3, -0.1, -0.2, 7.85, 1], [0.1, 7, -0.3, -19.3, 3], [0.3, -0.2, 10, 71.4, 5], [0.4, -0.223, 10.9, 71.2, 50]])\n",
    "B=[]\n",
    "\n",
    "n = int(input(\"Digite el numero de ecuaciones:\"))\n",
    "for i in range(n):\n",
    "    print \"ingrese la Ecuacion \"+str(i+1)\n",
    "    B.append([])\n",
    "    for j in range(n):\n",
    "        ki = int(input(\"X \"+str(j+1)+\" \"))\n",
    "        B[i].append(ki)\n",
    "        if j==(n-1):\n",
    "            ki = int(input(\"ingresar el valor B: \"))\n",
    "            B[i].append(ki)\n",
    "A=np.array(B)\n",
    "print \"Sistema Ecuaciones Propuesto:\"\n",
    "print \"Matriz A:\"\n",
    "print A, \"\\n\"\n",
    "\n",
    "# Eliminación de Gauss Simple hacia adelante\n",
    "for k in range(0, n-1):\n",
    "    for i in range(k+1, n):\n",
    "        factor = A[i,k] / (A[k,k] * 1.0)\n",
    "        for j in range(k,n):\n",
    "            A[i,j] = A[i,j] - factor * A[k,j]\n",
    "        A[i,n] = A[i,n] - factor * A[k,n]\n",
    "print \"Resultados:\"\n",
    "print \"\"\n",
    "print \"Matriz A (Eliminacion hacia adelante):\"\n",
    "print A\n",
    "# Sustitución hacia atrás\n",
    "X[n-1] = A[n-1,n] / (A[n-1,n-1] * 1.0)\n",
    "\n",
    "for i in range(n-1,-1,-1):\n",
    "    sum = A[i,n]\n",
    "    for j in range(i+1, n):\n",
    "        sum = sum - A[i,j] * X[j]\n",
    "    X[i] = sum / (A[i,i] * 1.0)\n",
    "\n",
    "print \"\\n Matriz A (Sustitucion hacia atras):\"\n",
    "print X\n"
   ]
  }
 ],
 "metadata": {
  "kernelspec": {
   "display_name": "Python 2",
   "language": "python",
   "name": "python2"
  },
  "language_info": {
   "codemirror_mode": {
    "name": "ipython",
    "version": 2
   },
   "file_extension": ".py",
   "mimetype": "text/x-python",
   "name": "python",
   "nbconvert_exporter": "python",
   "pygments_lexer": "ipython2",
   "version": "2.7.11"
  }
 },
 "nbformat": 4,
 "nbformat_minor": 0
}
