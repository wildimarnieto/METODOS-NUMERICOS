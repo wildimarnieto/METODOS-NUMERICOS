{
 "cells": [
  {
   "cell_type": "code",
   "execution_count": 2,
   "metadata": {
    "collapsed": true
   },
   "outputs": [],
   "source": [
    "import math\n",
    "import matplotlib.pyplot as plt \n",
    "\n",
    "def fun1(x):\n",
    "    x2=(-(3.0/2.0)*x)+9\n",
    "    return x2\n",
    "    \n",
    "def fun2(x):\n",
    "    x2= ((1.0/2.0)*x)+1\n",
    "    return x2\n",
    "\n",
    "v1=[]\n",
    "v2=[]\n",
    "x=[]\n",
    "for i in range (10):\n",
    "    v1.append(fun1(i))\n",
    "    v2.append(fun2(i))\n",
    "    x.append(i)\n",
    "    \n",
    "plt.title(\"Grafica de dos ecuaciones algebraicas lineales\")\n",
    "plt.plot (x,v1)\n",
    "plt.plot (x,v2)\n",
    "plt.grid()\n",
    "plt.show()"
   ]
  },
  {
   "cell_type": "code",
   "execution_count": null,
   "metadata": {
    "collapsed": true
   },
   "outputs": [],
   "source": []
  }
 ],
 "metadata": {
  "kernelspec": {
   "display_name": "Python 2",
   "language": "python",
   "name": "python2"
  },
  "language_info": {
   "codemirror_mode": {
    "name": "ipython",
    "version": 2
   },
   "file_extension": ".py",
   "mimetype": "text/x-python",
   "name": "python",
   "nbconvert_exporter": "python",
   "pygments_lexer": "ipython2",
   "version": "2.7.10"
  }
 },
 "nbformat": 4,
 "nbformat_minor": 0
}
