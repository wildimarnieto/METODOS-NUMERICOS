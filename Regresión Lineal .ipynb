{
 "cells": [
  {
   "cell_type": "code",
   "execution_count": null,
   "metadata": {
    "collapsed": true
   },
   "outputs": [],
   "source": [
    "import matplotlib.pyplot as plt\n",
    "\n",
    "def sumatoria(v_val):\n",
    "    sum = 0     \n",
    "\n",
    "    for i in v_val:     \n",
    "        sum += i\n",
    "\n",
    "    return sum      \n",
    "\n",
    "def calc_media(v_val):\n",
    "    return sumatoria(v_val) / float(len(v_val))   \n",
    "\n",
    "def calc_a1(v_x, v_y, v_xy, v_x_cuad):\n",
    "    n = len(v_x)    \n",
    "    sum_xy = sumatoria(v_xy)    \n",
    "    sum_x = sumatoria(v_x)      \n",
    "    sum_y = sumatoria(v_y)     \n",
    "    sum_x_cua = sumatoria(v_x_cuad)     \n",
    "\n",
    "    a1 = ((n * sum_xy) - (sum_x * sum_y)) / float(((n * sum_x_cua) - (sum_x**2)))\n",
    "\n",
    "    return a1\n",
    "\n",
    "def calc_a0(v_x, v_y, a1):\n",
    "    x_med = calc_media(v_x)\n",
    "    y_med = calc_media(v_y)\n",
    "\n",
    "    return float(y_med - a1 * x_med)\n",
    "\n",
    "edades = [19, 19, 23, 21, 21, 21, 19, 18, 20, 22, 22, 21, 19, 19, 20, 20, 20, 21, 20, 23]\n",
    "x = []      \n",
    "y = []      \n",
    "xy = []     \n",
    "x_cuad = []     \n",
    "a0 = 0      \n",
    "a1 = 0     \n",
    "recta = []  \n",
    "\n",
    "for xi, yi in enumerate(edades, start=1):\n",
    "    x.append(xi)\n",
    "    y.append(yi)\n",
    "    xy.append(xi * yi)\n",
    "    x_cuad.append(xi**2)\n",
    "\n",
    "a1 = calc_a1(x, y, xy, x_cuad)      \n",
    "a0 = calc_a0(x, y, a1)         \n",
    "\n",
    "for i in x:    \n",
    "    recta.append(float(a0 + a1*i))\n",
    "\n",
    "print \"\\nGRAFICO DISPERSION Y RECTA REGRESIÓN\"\n",
    "print \"\\nEdades: \"\n",
    "print \"\\t\", edades\n",
    "print \"\\nCoeficientes Recta: \"\n",
    "print \"\\ta0= \", a0, \"\\ta1= \", a1\n",
    "print \"\\nEcuación de la Recta: \"\n",
    "print \"\\ty= %.2f + %.2f * x\\n\" % (a0, a1)\n",
    "\n",
    "plt.figure(u\"Gráfica Regresión\")\n",
    "plt.title(u\"Regresión Lineal\", fontweight=\"bold\")\n",
    "plt.plot(x, y, \"ro\", label= \"Edad Estudiantes\")        \n",
    "plt.plot(x, recta, label=u\"Recta Regresión\", lw=1.5)          \n",
    "plt.legend(loc=4)\n",
    "plt.margins(y=.1, x=.1)\n",
    "plt.grid(True)\n",
    "plt.show()"
   ]
  },
  {
   "cell_type": "code",
   "execution_count": null,
   "metadata": {
    "collapsed": true
   },
   "outputs": [],
   "source": []
  }
 ],
 "metadata": {
  "kernelspec": {
   "display_name": "Python 2",
   "language": "python",
   "name": "python2"
  },
  "language_info": {
   "codemirror_mode": {
    "name": "ipython",
    "version": 2
   },
   "file_extension": ".py",
   "mimetype": "text/x-python",
   "name": "python",
   "nbconvert_exporter": "python",
   "pygments_lexer": "ipython2",
   "version": "2.7.10"
  }
 },
 "nbformat": 4,
 "nbformat_minor": 0
}
