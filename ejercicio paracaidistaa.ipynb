{
 "cells": [
  {
   "cell_type": "code",
   "execution_count": 3,
   "metadata": {
    "collapsed": false
   },
   "outputs": [
    {
     "name": "stdout",
     "output_type": "stream",
     "text": [
      "\n",
      "Error Tolerado:  0.5 %\n",
      "\n",
      "t | Sol Analitica | Sol Aproximado | Error\n",
      "\n",
      "0 | 0.000000 | 0.000000 | 0.000000\n",
      "\n",
      "2 | 16.404981 | 19.600000 | 3.195019\n",
      "\n",
      "4 | 27.769291 | 32.004699 | 4.235408\n",
      "\n",
      "6 | 35.641752 | 39.855544 | 4.213792\n",
      "\n",
      "8 | 41.095283 | 44.824287 | 3.729004\n",
      "\n",
      "10 | 44.873138 | 47.968969 | 3.095831\n",
      "\n",
      "12 | 47.490191 | 49.959215 | 2.469024\n",
      "\n",
      "14 | 49.303116 | 51.218828 | 1.915711\n",
      "\n",
      "16 | 50.558994 | 52.016028 | 1.457034\n",
      "\n",
      "18 | 51.428985 | 52.520570 | 1.091585\n",
      "\n",
      "20 | 52.031658 | 52.839891 | 0.808232\n",
      "\n",
      "22 | 52.449152 | 53.041987 | 0.592835\n",
      "\n",
      "24 | 52.738364 | 53.169892 | 0.431528\n",
      "\n"
     ]
    }
   ],
   "source": [
    "from math import *\n",
    "\n",
    "n= input\n",
    "\n",
    "Es= 0.5*10**(0) \n",
    "\n",
    "vel_act= 0      \n",
    "vel_ant= 0     \n",
    "sol_analitica= 0  \n",
    "sol_aprox= 0      \n",
    "Et= 0      \n",
    "t= 0\n",
    "t_ant= 0          \n",
    "\n",
    "m= 68.1     \n",
    "c= 12.5    \n",
    "g= 9.8     \n",
    "\n",
    "print \"\\nError Tolerado: \",Es,\"%\"  \n",
    "print \"\\nt | Sol Analitica | Sol Aproximado | Error\\n\"   \n",
    "\n",
    "while True:\n",
    "    sol_analitica= ((g*m)/c) * (1-exp(-(c/m)*t))     \n",
    "\n",
    "    vel_act= vel_ant + (g-(c/m)*vel_ant) * (t - t_ant)  \n",
    "\n",
    "    vel_ant= vel_act\n",
    "    sol_aprox= vel_act\n",
    "\n",
    "    Et= abs( sol_analitica - sol_aprox)\n",
    "\n",
    "    print \"%d | %f | %f | %f\\n\" %(t, sol_analitica, sol_aprox, Et)\n",
    "\n",
    "    if Et < Es and t != 0:\n",
    "        break\n",
    "\n",
    "    t_ant= t\n",
    "    t= t+2\n",
    "\n"
   ]
  },
  {
   "cell_type": "code",
   "execution_count": null,
   "metadata": {
    "collapsed": true
   },
   "outputs": [],
   "source": []
  }
 ],
 "metadata": {
  "kernelspec": {
   "display_name": "Python 2",
   "language": "python",
   "name": "python2"
  },
  "language_info": {
   "codemirror_mode": {
    "name": "ipython",
    "version": 2
   },
   "file_extension": ".py",
   "mimetype": "text/x-python",
   "name": "python",
   "nbconvert_exporter": "python",
   "pygments_lexer": "ipython2",
   "version": "2.7.10"
  }
 },
 "nbformat": 4,
 "nbformat_minor": 0
}
