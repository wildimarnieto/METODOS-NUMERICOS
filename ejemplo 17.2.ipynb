{
 "cells": [
  {
   "cell_type": "code",
   "execution_count": 5,
   "metadata": {
    "collapsed": true
   },
   "outputs": [],
   "source": [
    "import numpy as np\n",
    "import matplotlib.pyplot as plt\n",
    "\n",
    "datos = [8.8,9.4,10,9.8,10.1,\n",
    "         9.5,10.1,10.4,9.5,9.5,\n",
    "         9.8,9.2,7.9,8.9,9.6,\n",
    "         9.4,11.3,10.4,8.8,10.2,\n",
    "         10,9.4,9.8,10.6,8.9]\n",
    "\n",
    "rango = np.arange(7.5, 11.5 + 0.5, 0.5)      \n",
    "\n",
    "plt.hist(datos,rango, facecolor='red', alpha=0.8)\n",
    "plt.title(\"Histograma Datos\", fontweight=\"bold\")\n",
    "plt.xlabel(\"Rango (7.5 - 11.5)\",fontweight=\"bold\")\n",
    "plt.ylabel(\"Frec. Acumulada\",fontweight=\"bold\")\n",
    "plt.margins(y=.01,x=.01)\n",
    "plt.subplots_adjust(left=0.15)\n",
    "plt.grid(True)\n",
    "plt.show()"
   ]
  },
  {
   "cell_type": "code",
   "execution_count": null,
   "metadata": {
    "collapsed": true
   },
   "outputs": [],
   "source": []
  }
 ],
 "metadata": {
  "kernelspec": {
   "display_name": "Python 2",
   "language": "python",
   "name": "python2"
  },
  "language_info": {
   "codemirror_mode": {
    "name": "ipython",
    "version": 2
   },
   "file_extension": ".py",
   "mimetype": "text/x-python",
   "name": "python",
   "nbconvert_exporter": "python",
   "pygments_lexer": "ipython2",
   "version": "2.7.10"
  }
 },
 "nbformat": 4,
 "nbformat_minor": 0
}
