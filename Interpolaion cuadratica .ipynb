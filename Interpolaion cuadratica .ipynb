{
 "cells": [
  {
   "cell_type": "code",
   "execution_count": 2,
   "metadata": {
    "collapsed": false
   },
   "outputs": [
    {
     "name": "stdout",
     "output_type": "stream",
     "text": [
      "[1, 2, 3, 4, 5, 6]\n",
      "[0.0, 0.6931471805599453, 1.0986122886681098, 1.3862943611198906, 1.6094379124341003, 1.791759469228055]\n"
     ]
    }
   ],
   "source": [
    "import math\n",
    "import matplotlib.pyplot as plt \n",
    "\n",
    "x= range (1,7)\n",
    "y=[]\n",
    "z=[]\n",
    "print x\n",
    "\n",
    "for i in x:\n",
    "    y.append(math.log(i))\n",
    "print y\n",
    "\n",
    "def intercua (x,y,p, xo):\n",
    "    fx=math.log(x)\n",
    "    fy=math.log(y)\n",
    "    fp=math.log(p)\n",
    "    \n",
    "    b0=fx\n",
    "    b1=(fy - fx)/(y-x)\n",
    "    b2=(((fp-fy)/(p-y))-b1)/(p-x)\n",
    "    \n",
    "    fxo= ((b0+(b1*(xo-x)))+(b2*((xo-x)*(xo-y))))\n",
    "    \n",
    "    return fxo\n",
    "    \n",
    "for i in x:\n",
    "    z.append(intercua (i, i+1,i+2,i))\n",
    "plt.title(\"Interpolacion\")\n",
    "plt.plot (x,y, \"+\")\n",
    "plt.plot (x,z)\n",
    "plt.grid()\n",
    "plt.show()"
   ]
  },
  {
   "cell_type": "code",
   "execution_count": null,
   "metadata": {
    "collapsed": true
   },
   "outputs": [],
   "source": []
  },
  {
   "cell_type": "code",
   "execution_count": null,
   "metadata": {
    "collapsed": true
   },
   "outputs": [],
   "source": []
  }
 ],
 "metadata": {
  "kernelspec": {
   "display_name": "Python 2",
   "language": "python",
   "name": "python2"
  },
  "language_info": {
   "codemirror_mode": {
    "name": "ipython",
    "version": 2
   },
   "file_extension": ".py",
   "mimetype": "text/x-python",
   "name": "python",
   "nbconvert_exporter": "python",
   "pygments_lexer": "ipython2",
   "version": "2.7.10"
  }
 },
 "nbformat": 4,
 "nbformat_minor": 0
}
