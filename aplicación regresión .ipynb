{
 "cells": [
  {
   "cell_type": "code",
   "execution_count": null,
   "metadata": {
    "collapsed": true
   },
   "outputs": [],
   "source": [
    "import math\n",
    "from matplotlib pyplot as plt \n",
    "import numpy as np\n",
    "\n",
    "v=\n",
    "x1=[]\n",
    "x2[]\n",
    "vect1=[]\n",
    "vect2=[]\n",
    "vmed=[10 16 3 23 ]\n",
    "t=range[1,16]\n",
    "print t:\n",
    "    \n",
    "def hallaral (xi,yi):\n",
    "    if len(xi)==ien(yi):\n",
    "        n=len(xi)\n",
    "        p1=0.0\n",
    "        p2=0.0\n",
    "        p3=0.0\n",
    "        p4=0.0\n",
    "        a1=0.0\n",
    "        for in t:\n",
    "            p1+=\n",
    "            p2+=\n",
    "            p3+=\n",
    "            p4+=\n",
    "            p5=p2\n",
    "    "
   ]
  }
 ],
 "metadata": {
  "kernelspec": {
   "display_name": "Python 2",
   "language": "python",
   "name": "python2"
  },
  "language_info": {
   "codemirror_mode": {
    "name": "ipython",
    "version": 2
   },
   "file_extension": ".py",
   "mimetype": "text/x-python",
   "name": "python",
   "nbconvert_exporter": "python",
   "pygments_lexer": "ipython2",
   "version": "2.7.10"
  }
 },
 "nbformat": 4,
 "nbformat_minor": 0
}
