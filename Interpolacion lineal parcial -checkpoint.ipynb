{
 "cells": [
  {
   "cell_type": "code",
   "execution_count": 11,
   "metadata": {
    "collapsed": false
   },
   "outputs": [
    {
     "name": "stdout",
     "output_type": "stream",
     "text": [
      "[1, 2, 3, 4, 5, 6, 7, 8, 9, 10]\n",
      "[0.0, 0.6931471805599453, 1.0986122886681098, 1.3862943611198906, 1.6094379124341003, 1.791759469228055, 1.9459101490553132, 2.0794415416798357, 2.1972245773362196, 2.302585092994046]\n"
     ]
    }
   ],
   "source": [
    "import math\n",
    "import matplotlib.pyplot as plt \n",
    "\n",
    "x= range (1,11)\n",
    "y=[]\n",
    "z=[]\n",
    "print x\n",
    "\n",
    "for i in x:\n",
    "    y.append(math.log(i))\n",
    "print y\n",
    "\n",
    "def inter (x,y, xo):\n",
    "    fx=e**4\n",
    "    fy=e**6\n",
    "    \n",
    "    fxo=fx + ((fy - fx)/(y-x))*(xo-x)\n",
    "    \n",
    "    return fxo\n",
    "    \n",
    "for i in x:\n",
    "    z.append(inter (1.0, 2,1.5))\n",
    "    \n",
    "    \n",
    "plt.title(\"Interpolacion\")\n",
    "plt.plot (x,y, \"+\")\n",
    "plt.plot (x,z)\n",
    "plt.grid()\n",
    "plt.show()\n",
    "\n"
   ]
  },
  {
   "cell_type": "code",
   "execution_count": null,
   "metadata": {
    "collapsed": true
   },
   "outputs": [],
   "source": []
  },
  {
   "cell_type": "code",
   "execution_count": null,
   "metadata": {
    "collapsed": true
   },
   "outputs": [],
   "source": []
  }
 ],
 "metadata": {
  "kernelspec": {
   "display_name": "Python 2",
   "language": "python",
   "name": "python2"
  },
  "language_info": {
   "codemirror_mode": {
    "name": "ipython",
    "version": 2
   },
   "file_extension": ".py",
   "mimetype": "text/x-python",
   "name": "python",
   "nbconvert_exporter": "python",
   "pygments_lexer": "ipython2",
   "version": "2.7.10"
  }
 },
 "nbformat": 4,
 "nbformat_minor": 0
}
