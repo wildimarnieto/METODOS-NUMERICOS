{
 "cells": [
  {
   "cell_type": "raw",
   "metadata": {},
   "source": []
  },
  {
   "cell_type": "code",
   "execution_count": 28,
   "metadata": {
    "collapsed": false
   },
   "outputs": [
    {
     "name": "stdout",
     "output_type": "stream",
     "text": [
      "ingresar:5\n",
      "|n               |  funcion         |Error V         |  Error R         |  Error R Aprx    |\n",
      "|              0 |              1.2 |            1.0 |            83.33% |            100.0%|\n",
      "|              1 |             0.95 |           0.75 |            78.95% |            26.32%|\n",
      "|              2 |             0.45 |           0.25 |            55.56% |           111.11%|\n",
      "|              3 |              0.3 |            0.1 |            33.33% |             50.0%|\n",
      "|              4 |              0.2 |            0.0 |              0.0% |             50.0%|\n"
     ]
    }
   ],
   "source": [
    "# Series de Taylor\n",
    "import math\n",
    "orden=0\n",
    "orde=[];\n",
    "co=0\n",
    "resultado=0\n",
    "orden=int(input(\"ingresar:\"))\n",
    "x=0\n",
    "y=1\n",
    "apro=3\n",
    "re=0\n",
    "p=(-0.1*y**4)+(-0.15*y**3)+(-0.5*y**2)+(-0.25*y)+1.2\n",
    "orde.append((-0.1*x**4)+(-0.15*x**3)+(-0.5*x**2)+(-0.25*x)+1.2)\n",
    "orde.append((-0.4*x**3)+(-0.45*x**2)+(-1*x)+(-0.25))\n",
    "orde.append((-1.2*x**2)+(-0.9*x)+(-1))\n",
    "orde.append((-2.4*x)+(-0.9))\n",
    "orde.append((-2.4))\n",
    "print'|{0:15} |  {1:15} |{2:15} |  {3:15} |  {4:15} |'.format('n','funcion','Error V','Error R','Error R Aprx')\n",
    "while co<orden:\n",
    "    resultado=resultado+(orde[co]/math.factorial(co))\n",
    "    error_r_apr=round(abs(((resultado-re)/resultado)*100),2)\n",
    "    re=resultado\n",
    "    error_verdadero=round(abs(p-resultado),2)\n",
    "    error_relativo_p=round(abs((error_verdadero/resultado)*100),2)\n",
    "    print'|{0:15} |  {1:15} |{2:15} |  {3:15}% |  {4:15}%|'.format(co,resultado,error_verdadero,error_relativo_p,error_r_apr)\n",
    "    co=co+1"
   ]
  },
  {
   "cell_type": "code",
   "execution_count": null,
   "metadata": {
    "collapsed": true
   },
   "outputs": [],
   "source": []
  }
 ],
 "metadata": {
  "kernelspec": {
   "display_name": "Python 2",
   "language": "python",
   "name": "python2"
  },
  "language_info": {
   "codemirror_mode": {
    "name": "ipython",
    "version": 2
   },
   "file_extension": ".py",
   "mimetype": "text/x-python",
   "name": "python",
   "nbconvert_exporter": "python",
   "pygments_lexer": "ipython2",
   "version": "2.7.11"
  }
 },
 "nbformat": 4,
 "nbformat_minor": 0
}
