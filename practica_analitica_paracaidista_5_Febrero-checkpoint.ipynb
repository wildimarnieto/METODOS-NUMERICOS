{
 "cells": [
  {
   "cell_type": "code",
   "execution_count": 1,
   "metadata": {
    "collapsed": false
   },
   "outputs": [
    {
     "name": "stdout",
     "output_type": "stream",
     "text": [
      "metodo analitico:0.0 metodo numerico: 0.0\n",
      "metodo analitico:8.9531822079 metodo numerico: 8.9531822079\n",
      "metodo analitico:16.4049808029 metodo numerico: 16.4049808029\n",
      "metodo analitico:22.6071669095 metodo numerico: 22.6071669095\n",
      "metodo analitico:27.7692914639 metodo numerico: 27.7692914639\n",
      "metodo analitico:32.0657652324 metodo numerico: 32.0657652324\n",
      "metodo analitico:35.6417515631 metodo numerico: 35.6417515631\n",
      "metodo analitico:38.6180709651 metodo numerico: 38.6180709651\n",
      "metodo analitico:41.0952832258 metodo numerico: 41.0952832258\n",
      "metodo analitico:43.1570849869 metodo numerico: 43.1570849869\n",
      "metodo analitico:44.8731375713 metodo numerico: 44.8731375713\n",
      "metodo analitico:46.3014206042 metodo numerico: 46.3014206042\n",
      "metodo analitico:47.4901909486 metodo numerico: 47.4901909486\n",
      "metodo analitico:48.4796131425 metodo numerico: 48.4796131425\n",
      "metodo analitico:49.3031164225 metodo numerico: 49.3031164225\n",
      "metodo analitico:49.988524185 metodo numerico: 49.988524185\n",
      "metodo analitico:50.5589940452 metodo numerico: 50.5589940452\n",
      "metodo analitico:51.0338002541 metodo numerico: 51.0338002541\n",
      "metodo analitico:51.4289849112 metodo numerico: 51.4289849112\n",
      "metodo analitico:51.7578999723 metodo numerico: 51.7578999723\n",
      "metodo analitico:52.0316583671 metodo numerico: 52.0316583671\n"
     ]
    }
   ],
   "source": [
    "import math\n",
    "g=9.8\n",
    "m=68.1\n",
    "c=12.5\n",
    "for t in range(21):\n",
    "    v=((g*m)/c)*(1-math.exp((-c/m)*t))\n",
    "    print (\"metodo analitico:\"+str(v)+\" metodo numerico: \"+str(v))"
   ]
  },
  {
   "cell_type": "code",
   "execution_count": null,
   "metadata": {
    "collapsed": true
   },
   "outputs": [],
   "source": []
  }
 ],
 "metadata": {
  "kernelspec": {
   "display_name": "Python 2",
   "language": "python",
   "name": "python2"
  },
  "language_info": {
   "codemirror_mode": {
    "name": "ipython",
    "version": 2
   },
   "file_extension": ".py",
   "mimetype": "text/x-python",
   "name": "python",
   "nbconvert_exporter": "python",
   "pygments_lexer": "ipython2",
   "version": "2.7.10"
  }
 },
 "nbformat": 4,
 "nbformat_minor": 0
}
