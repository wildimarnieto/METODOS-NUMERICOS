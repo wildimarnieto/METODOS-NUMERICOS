{
 "cells": [
  {
   "cell_type": "code",
   "execution_count": 1,
   "metadata": {
    "collapsed": false
   },
   "outputs": [
    {
     "name": "stdout",
     "output_type": "stream",
     "text": [
      "\n",
      "Resultados: \n",
      "Coeficientes:\n",
      "\ta0= 31.0589\ta1= -0.7805\n",
      "\t(Coef. Correlación) r= -0.9015\n",
      "Ecuación Recta:\n",
      "\ty = 31.0589 + (-0.7805)X\n",
      "Error Estándar Estimado: \n",
      "\tSyx= 4.4763\n"
     ]
    }
   ],
   "source": [
    "from reg_lineal import *\n",
    "import matplotlib\n",
    "matplotlib.use('Qt4Agg')   \n",
    "import matplotlib.pyplot as plt\n",
    "\n",
    "x = [6, 7, 11, 15, 17, 21, 23, 29, 29, 37, 39]\n",
    "y = [29, 21, 29, 14, 21, 15, 7, 7, 13, 0, 3]\n",
    "\n",
    "op = RegLineal()   \n",
    "recta = []   \n",
    "a0 = op.calc_a0(x, y)    \n",
    "a1 = op.calc_a1(x, y)    \n",
    "r = op.calc_r(x, y)    \n",
    "error = op.error_std(x, y) \n",
    "\n",
    "print \"\\nResultados: \"\n",
    "print \"Coeficientes:\"\n",
    "print \"\\ta0= %.4f\\ta1= %.4f\" % (a0, a1)\n",
    "print \"\\t(Coef. Correlación) r= %.4f\" % r\n",
    "print \"Ecuación Recta:\"\n",
    "print \"\\ty = %.4f + (%.4f)X\" % (a0, a1)\n",
    "print \"Error Estándar Estimado: \"\n",
    "print \"\\tSyx= %.4f\" % error\n",
    "\n",
    "for xi in x:\n",
    "    temp = a0 + a1 * xi   \n",
    "    recta.append(temp)\n",
    "\n",
    "\n",
    "plt.title(u\"Recta Regresión Lineal\", fontweight=\"bold\")\n",
    "plt.plot(x, y, \"ro\", label= \"Valores X\")      \n",
    "plt.plot(x, recta, label=u\"Recta Regresión\", lw=1.5)     \n",
    "plt.xlabel(\"Valores X\", fontweight=\"bold\")\n",
    "plt.ylabel(\"Valores Y\", fontweight=\"bold\")\n",
    "plt.legend(loc=1)\n",
    "plt.margins(y=.1, x=.1)\n",
    "plt.grid(True)\n",
    "plt.show()"
   ]
  },
  {
   "cell_type": "code",
   "execution_count": null,
   "metadata": {
    "collapsed": true
   },
   "outputs": [],
   "source": []
  }
 ],
 "metadata": {
  "kernelspec": {
   "display_name": "Python 2",
   "language": "python",
   "name": "python2"
  },
  "language_info": {
   "codemirror_mode": {
    "name": "ipython",
    "version": 2
   },
   "file_extension": ".py",
   "mimetype": "text/x-python",
   "name": "python",
   "nbconvert_exporter": "python",
   "pygments_lexer": "ipython2",
   "version": "2.7.10"
  }
 },
 "nbformat": 4,
 "nbformat_minor": 0
}
