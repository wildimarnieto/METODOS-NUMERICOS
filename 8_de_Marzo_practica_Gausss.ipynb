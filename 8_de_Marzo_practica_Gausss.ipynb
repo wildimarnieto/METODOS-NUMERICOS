{
 "cells": [
  {
   "cell_type": "code",
   "execution_count": 7,
   "metadata": {
    "collapsed": false
   },
   "outputs": [
    {
     "name": "stdout",
     "output_type": "stream",
     "text": [
      "|y               |  x               |\n",
      "|              0 |                6 |\n"
     ]
    }
   ],
   "source": [
    "import math\n",
    "import pylab as plt\n",
    "vectorx1=[];\n",
    "vectory1=[];\n",
    "vectorx=[];\n",
    "vectory=[];\n",
    "res=0\n",
    "otro=0\n",
    "for t in range(15):\n",
    "    t=t+0.5\n",
    "    x1=(18-3*t)/2\n",
    "    vectorx.append(x1)\n",
    "    vectory.append(t)\n",
    "    x2=(2+t)/2\n",
    "    vectorx1.append(x2)\n",
    "    vectory1.append(t)\n",
    "    if x1==x2:\n",
    "        otro=x1\n",
    "\n",
    "plt.plot(vectory1,vectorx1,'r',linewidth=2,label='-x1+2*x2=18')\n",
    "plt.plot(vectory,vectorx,'g',linewidth=2,label='3x1+2*x2=2')\n",
    "plt.hold(True)\n",
    "print'|{0:15} |  {1:15} |'.format('y','x')\n",
    "tiempo=(-2*otro+18)/3\n",
    "print'|{0:15} |  {1:15} |'.format(otro,tiempo)\n",
    "plt.xlabel('x1')\n",
    "plt.ylabel('x2')\n",
    "plt.title('Grafica Ecuacion Lineal')\n",
    "plt.grid(True)\n",
    "plt.savefig(\"test.png\")\n",
    "plt.legend(loc='lower right')\n",
    "plt.show()"
   ]
  },
  {
   "cell_type": "code",
   "execution_count": null,
   "metadata": {
    "collapsed": true
   },
   "outputs": [],
   "source": []
  }
 ],
 "metadata": {
  "kernelspec": {
   "display_name": "Python 2",
   "language": "python",
   "name": "python2"
  },
  "language_info": {
   "codemirror_mode": {
    "name": "ipython",
    "version": 2
   },
   "file_extension": ".py",
   "mimetype": "text/x-python",
   "name": "python",
   "nbconvert_exporter": "python",
   "pygments_lexer": "ipython2",
   "version": "2.7.11"
  }
 },
 "nbformat": 4,
 "nbformat_minor": 0
}
