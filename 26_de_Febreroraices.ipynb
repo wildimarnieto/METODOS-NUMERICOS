{
 "cells": [
  {
   "cell_type": "code",
   "execution_count": 3,
   "metadata": {
    "collapsed": false
   },
   "outputs": [
    {
     "name": "stdout",
     "output_type": "stream",
     "text": [
      "|xl   |  xu              | xr              | xr_f            |\n",
      "|12.0 |             16.0 |   14.9113031791 |            14.0 |\n",
      "|12.0 |    14.9113031791 |   14.7941927833 |   13.4556515896 |\n",
      "|12.0 |    14.7941927833 |   14.7816953379 |   13.3970963917 |\n",
      "|12.0 |    14.7816953379 |    14.780362843 |    13.390847669 |\n",
      "|12.0 |     14.780362843 |   14.7802207839 |   13.3901814215 |\n",
      "|12.0 |    14.7802207839 |   14.7802056389 |    13.390110392 |\n",
      "|12.0 |    14.7802056389 |   14.7802040243 |   13.3901028195 |\n",
      "|12.0 |    14.7802040243 |   14.7802038522 |   13.3901020122 |\n",
      "|12.0 |    14.7802038522 |   14.7802038339 |   13.3901019261 |\n",
      "|12.0 |    14.7802038339 |   14.7802038319 |   13.3901019169 |\n",
      "|12.0 |    14.7802038319 |   14.7802038317 |   13.3901019159 |\n",
      "|12.0 |    14.7802038317 |   14.7802038317 |   13.3901019158 |\n",
      "|12.0 |    14.7802038317 |   14.7802038317 |   13.3901019158 |\n",
      "|12.0 |    14.7802038317 |   14.7802038317 |   13.3901019158 |\n",
      "|12.0 |    14.7802038317 |   14.7802038317 |   13.3901019158 |\n",
      "|12.0 |    14.7802038317 |   14.7802038317 |   13.3901019158 |\n"
     ]
    }
   ],
   "source": [
    "import math\n",
    "g=9.8\n",
    "masa=68.1\n",
    "t=10\n",
    "v=40\n",
    "xl=12.0\n",
    "xu=16.0\n",
    "print'|{0:4} |  {1:15} | {2:15} | {3:15} |'.format(\"xl\",\"xu\",\"xr\",\"xr_f\")\n",
    "def f(c):\n",
    "    return ((g*masa/c)*(1-math.exp(-(c/masa)*t)))-v\n",
    "def fxr(xl,xu):\n",
    "    return (xu-((f(xu)*(xl-xu))/(f(xl)-(f(xu)))))\n",
    "def fxrf(xl,xu):\n",
    "    return (xl+xu)/2\n",
    "if((f(xl)*f(xu))<0):\n",
    "    xr=fxr(xl,xu)\n",
    "    xr_f=fxrf(xl,xu)\n",
    "print'|{0:4} |  {1:15} | {2:15} | {3:15} |'.format(xl,xu,xr,xr_f)\n",
    "aux=0\n",
    "while((f(xl)*f(xr))!=0):\n",
    "    if((f(xl)*f(xr))<0):\n",
    "        xu=xr\n",
    "        xr=fxr(xl,xu)\n",
    "        xr_f=fxrf(xl,xu)\n",
    "        print'|{0:4} |  {1:15} | {2:15} | {3:15} |'.format(xl,xu,xr,xr_f)\n",
    "        \n",
    "    else:\n",
    "        if((f(xl)*f(xr))>0):\n",
    "            xl=xr\n",
    "            xr=fxr(xl,xu)\n",
    "            xr_f=fxrf(xl,xu)              \n",
    "            \n"
   ]
  },
  {
   "cell_type": "code",
   "execution_count": null,
   "metadata": {
    "collapsed": true
   },
   "outputs": [],
   "source": []
  }
 ],
 "metadata": {
  "kernelspec": {
   "display_name": "Python 2",
   "language": "python",
   "name": "python2"
  },
  "language_info": {
   "codemirror_mode": {
    "name": "ipython",
    "version": 2
   },
   "file_extension": ".py",
   "mimetype": "text/x-python",
   "name": "python",
   "nbconvert_exporter": "python",
   "pygments_lexer": "ipython2",
   "version": "2.7.11"
  }
 },
 "nbformat": 4,
 "nbformat_minor": 0
}
