{
 "cells": [
  {
   "cell_type": "code",
   "execution_count": 2,
   "metadata": {
    "collapsed": false
   },
   "outputs": [
    {
     "name": "stdout",
     "output_type": "stream",
     "text": [
      "Datos:\n",
      "\t[28.65, 26.55, 26.65, 27.65, 27.35, 28.35, 26.85, 28.65, 29.65, 27.85, 27.05, 28.25, 28.35, 26.75, 27.65, 28.45, 28.65, 28.45, 31.65, 26.35, 27.75, 29.25, 27.65, 28.65, 27.65, 28.55, 27.55, 27.25]\n",
      "\n",
      "Resultados:\n",
      "\tMedia=  28.0035714286\n",
      "\tDesv. Estandar=  1.09729706395\n",
      "\tVarianza=  1.20406084656\n",
      "\tCoef. Variacion(%)=  3.9184182873\n"
     ]
    }
   ],
   "source": [
    "from reg_lineal import *\n",
    "import matplotlib.pyplot as plt\n",
    "import numpy as np\n",
    "\n",
    "datos = [28.65, 26.55, 26.65, 27.65, 27.35, 28.35, 26.85,\n",
    "         28.65, 29.65, 27.85, 27.05, 28.25, 28.35, 26.75,\n",
    "         27.65, 28.45, 28.65, 28.45, 31.65, 26.35, 27.75,\n",
    "         29.25, 27.65, 28.65, 27.65, 28.55, 27.55, 27.25]\n",
    "\n",
    "calc = RegLineal()    \n",
    "\n",
    "\n",
    "print \"Datos:\"\n",
    "print \"\\t\",datos\n",
    "print \"\\nResultados:\"\n",
    "print \"\\tMedia= \", calc.calc_media(datos)\n",
    "print \"\\tDesv. Estandar= \", calc.desv_std(datos)\n",
    "print \"\\tVarianza= \", calc.varianza(datos)\n",
    "print \"\\tCoef. Variacion(%)= \", calc.cv(datos)\n",
    "\n",
    "rango = np.arange(26, 32 + 0.5, 0.5)       \n",
    "\n",
    "plt.hist(datos,rango, facecolor='red', alpha=0.8)\n",
    "plt.title(\"Histograma Datos\", fontweight=\"bold\")\n",
    "plt.xlabel(\"Rango (26 - 32)\",fontweight=\"bold\")\n",
    "plt.ylabel(\"Frec. Acumulada\",fontweight=\"bold\")\n",
    "plt.margins(x=.01,y=.01)\n",
    "plt.subplots_adjust(left=0.15)\n",
    "plt.grid(True)\n",
    "plt.show()"
   ]
  },
  {
   "cell_type": "code",
   "execution_count": null,
   "metadata": {
    "collapsed": true
   },
   "outputs": [],
   "source": []
  }
 ],
 "metadata": {
  "kernelspec": {
   "display_name": "Python 2",
   "language": "python",
   "name": "python2"
  },
  "language_info": {
   "codemirror_mode": {
    "name": "ipython",
    "version": 2
   },
   "file_extension": ".py",
   "mimetype": "text/x-python",
   "name": "python",
   "nbconvert_exporter": "python",
   "pygments_lexer": "ipython2",
   "version": "2.7.10"
  }
 },
 "nbformat": 4,
 "nbformat_minor": 0
}
