{
 "cells": [
  {
   "cell_type": "code",
   "execution_count": 2,
   "metadata": {
    "collapsed": false
   },
   "outputs": [
    {
     "name": "stdout",
     "output_type": "stream",
     "text": [
      "Datos:\n",
      "\t[8.8, 9.4, 10, 9.8, 10.1, 9.5, 10.1, 10.4, 9.5, 9.5, 9.8, 9.2, 7.9, 8.9, 9.6, 9.4, 11.3, 10.4, 8.8, 10.2, 10, 9.4, 9.8, 10.6, 8.9]\n",
      "\n",
      "Resultados:\n",
      "\tMedia=  9.652\n",
      "\tDesv. Estandar=  0.703041013503\n",
      "\tVarianza=  0.494266666667\n",
      "\tCoef. Variacion(%)=  7.28388948925\n"
     ]
    }
   ],
   "source": [
    "from reg_lineal import *       \n",
    "\n",
    "datos = [8.8,9.4,10,9.8,10.1,\n",
    "         9.5,10.1,10.4,9.5,9.5,\n",
    "         9.8,9.2,7.9,8.9,9.6,\n",
    "         9.4,11.3,10.4,8.8,10.2,\n",
    "         10,9.4,9.8,10.6,8.9]\n",
    "\n",
    "calc = RegLineal()    \n",
    "\n",
    "print \"Datos:\"\n",
    "print \"\\t\",datos\n",
    "print \"\\nResultados:\"\n",
    "print \"\\tMedia= \", calc.calc_media(datos)\n",
    "print \"\\tDesv. Estandar= \", calc.desv_std(datos)\n",
    "print \"\\tVarianza= \", calc.varianza(datos)\n",
    "print \"\\tCoef. Variacion(%)= \", calc.cv(datos)"
   ]
  },
  {
   "cell_type": "code",
   "execution_count": null,
   "metadata": {
    "collapsed": true
   },
   "outputs": [],
   "source": []
  }
 ],
 "metadata": {
  "kernelspec": {
   "display_name": "Python 2",
   "language": "python",
   "name": "python2"
  },
  "language_info": {
   "codemirror_mode": {
    "name": "ipython",
    "version": 2
   },
   "file_extension": ".py",
   "mimetype": "text/x-python",
   "name": "python",
   "nbconvert_exporter": "python",
   "pygments_lexer": "ipython2",
   "version": "2.7.10"
  }
 },
 "nbformat": 4,
 "nbformat_minor": 0
}
