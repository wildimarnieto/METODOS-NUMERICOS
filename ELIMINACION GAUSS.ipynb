{
 "cells": [
  {
   "cell_type": "code",
   "execution_count": 5,
   "metadata": {
    "collapsed": false
   },
   "outputs": [
    {
     "name": "stdout",
     "output_type": "stream",
     "text": [
      "[0.3, 0.52, 1]\n",
      "[0.0, 0.1333333333333333, 0.23333333333333317]\n",
      "[0.0, 0.0, -0.054999999999999855]\n",
      "x 1 = -14.9 \n",
      "\n",
      "x 2 = -29.5 \n",
      "\n",
      "x 3 = 19.8 \n",
      "\n"
     ]
    }
   ],
   "source": [
    "aux=0.0\n",
    "\n",
    "n=3\n",
    "\n",
    "def Eliminacion_Gauss():\n",
    "    \n",
    "    c=[[0.3,0.52,1],[0.5,1,1.9],[0.1,0.3,0.5]]\n",
    "    res=[-0.01,0.67,-0.44]\n",
    "    x=[0.0,0.0,0.0]    \n",
    "    for k in range(0,n-1):\n",
    "        for i in range(k+1,n):\n",
    "            f=(c[i][k])/(c[k][k])\n",
    "            for j in range(k,n):\n",
    "                c[i][j]=c[i][j]-f*c[k][j]\n",
    "            res[i]=res[i]-f*res[k]\n",
    "    print c[0]\n",
    "    print c[1]\n",
    "    print c[2]\n",
    "    m=2\n",
    "    \n",
    "    x[m]=res[m]/c[m][m]\n",
    "    for i in range(n-1,-1,-1):\n",
    "        sum=res[i]\n",
    "        for j in range(i+1,n):\n",
    "            sum = sum - ((c[i][j])*x[j])\n",
    "        x[i]=sum/c[i][i]\n",
    "    while(i<len(x)):\n",
    "        print \"x\", i+1, \"=\",(x[i])  , \n",
    "        print \"\\n\"\n",
    "        i=i+1\n",
    "               \n",
    "Eliminacion_Gauss()"
   ]
  },
  {
   "cell_type": "code",
   "execution_count": null,
   "metadata": {
    "collapsed": true
   },
   "outputs": [],
   "source": []
  }
 ],
 "metadata": {
  "kernelspec": {
   "display_name": "Python 2",
   "language": "python",
   "name": "python2"
  },
  "language_info": {
   "codemirror_mode": {
    "name": "ipython",
    "version": 2
   },
   "file_extension": ".py",
   "mimetype": "text/x-python",
   "name": "python",
   "nbconvert_exporter": "python",
   "pygments_lexer": "ipython2",
   "version": "2.7.10"
  }
 },
 "nbformat": 4,
 "nbformat_minor": 0
}
