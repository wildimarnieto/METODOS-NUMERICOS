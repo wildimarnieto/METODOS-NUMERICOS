{
 "cells": [
  {
   "cell_type": "code",
   "execution_count": 1,
   "metadata": {
    "collapsed": false
   },
   "outputs": [
    {
     "name": "stdout",
     "output_type": "stream",
     "text": [
      "Sistema Ecuaciones Propuesto:\n",
      "\t10X1 + 2X2 -X3 = 27\n",
      "\t-3X1 -6X2 + 2X3 = -61.5\n",
      "\tX1 + X2 + 5X3 = -21.5\n",
      "\n",
      "Matriz Aumentada del Sistema:\n",
      "Matriz A:\n",
      "[[ 10.    2.   -1.   27. ]\n",
      " [ -3.   -6.    2.  -61.5]\n",
      " [  1.    1.    5.  -21.5]]\n",
      "\n",
      "\n",
      "# ------------------------------- a) Eliminación Gauss Simple  ------------------------------- #\n",
      "Matriz A:\n",
      "[[ 10.           2.          -1.          27.        ]\n",
      " [  0.          -5.4          1.7        -53.4       ]\n",
      " [  0.           0.           5.35185185 -32.11111111]]\n",
      "\n",
      "Incognitas:\n",
      "[[ 0.5]\n",
      " [ 8. ]\n",
      " [-6. ]]\n",
      "\n",
      "# -------------------------------------------------------------------------------------------- #\n",
      "\n",
      "# -----------------------  b) Sustituir Incognitas en las Ecuaciones:  ----------------------- #\n",
      "x1= 0.500000\tx2= 8.000000\tx3= -6.000000\n",
      "\n",
      "10(0.5) + 2(8.0) -(-6.0) = 27.0\n",
      "-3(0.5) - 6(8.0) + 2(-6.0) = -61.5\n",
      "0.5 + (8.0) + 5(-6.0) = -21.5\n",
      "\n",
      "# -------------------------------------------------------------------------------------------- #\n"
     ]
    }
   ],
   "source": [
    "import numpy as np\n",
    "\n",
    "A = np.array([[10, 2, -1, 27], [-3, -6, 2, -61.5], [1, 1, 5, -21.5]])\n",
    "X = np.zeros((3,1))\n",
    "\n",
    "print \"Sistema Ecuaciones Propuesto:\"\n",
    "print \"\\t10X1 + 2X2 -X3 = 27\\n\\t-3X1 -6X2 + 2X3 = -61.5\\n\\tX1 + X2 + 5X3 = -21.5\"\n",
    "print \"\\nMatriz Aumentada del Sistema:\"\n",
    "print \"Matriz A:\"\n",
    "print A\n",
    "\n",
    "n = 3\n",
    "for k in range(0, n-1):\n",
    "\tfor i in range(k+1, n):\n",
    "\t\tfactor = A[i,k] / (A[k,k] * 1.0)\n",
    "\t\tfor j in range(k,n):\n",
    "\t\t\tA[i,j] = A[i,j] - factor * A[k,j]\n",
    "\t\tA[i,n] = A[i,n] - factor * A[k,n]\n",
    "\n",
    "\n",
    "X[n-1] = A[n-1,n] / (A[n-1,n-1] * 1.0)\n",
    "\n",
    "for i in range(n-1,-1,-1):\n",
    "\tsum = A[i,n]\n",
    "\tfor j in range(i+1, n):\n",
    "\t\tsum = sum - A[i,j] * X[j]\n",
    "\tX[i] = sum / (A[i,i] * 1.0)\n",
    "\n",
    "\n",
    "print \"\\n\\n#\", \"-\" * 31, \"a) Eliminación Gauss Simple \", \"-\" * 31, \"#\"\n",
    "print \"Matriz A:\"\n",
    "print A\n",
    "\n",
    "print \"\\nIncognitas:\"\n",
    "print X\n",
    "print \"\\n#\", \"-\" * 92, \"#\"\n",
    "\n",
    "print \"\\n#\",\"-\" * 23, \" b) Sustituir Incognitas en las Ecuaciones: \", \"-\" * 23 ,\"#\"\n",
    "print \"x1= %f\\tx2= %f\\tx3= %f\"%(X[0], X[1], X[2])\n",
    "print \"\\n10(%.1f) + 2(%.1f) -(%.1f) = %.1f\" % (X[0], X[1], X[2], 10*X[0] + 2*X[1] - X[2]) \n",
    "print \"-3(%.1f) - 6(%.1f) + 2(%.1f) = %.1f\" % (X[0], X[1], X[2], -3*X[0] - 6*X[1] + 2*X[2])\n",
    "print \"%.1f + (%.1f) + 5(%.1f) = %.1f\" % (X[0], X[1], X[2], X[0] + X[1] + 5*X[2])\n",
    "print \"\\n#\", \"-\" * 92, \"#\""
   ]
  },
  {
   "cell_type": "code",
   "execution_count": null,
   "metadata": {
    "collapsed": true
   },
   "outputs": [],
   "source": []
  }
 ],
 "metadata": {
  "kernelspec": {
   "display_name": "Python 2",
   "language": "python",
   "name": "python2"
  },
  "language_info": {
   "codemirror_mode": {
    "name": "ipython",
    "version": 2
   },
   "file_extension": ".py",
   "mimetype": "text/x-python",
   "name": "python",
   "nbconvert_exporter": "python",
   "pygments_lexer": "ipython2",
   "version": "2.7.10"
  }
 },
 "nbformat": 4,
 "nbformat_minor": 0
}
