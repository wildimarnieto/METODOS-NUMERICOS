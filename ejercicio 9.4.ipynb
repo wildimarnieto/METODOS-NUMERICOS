{
 "cells": [
  {
   "cell_type": "code",
   "execution_count": 1,
   "metadata": {
    "collapsed": false
   },
   "outputs": [
    {
     "name": "stdout",
     "output_type": "stream",
     "text": [
      "Sistema Ecuaciones Dado: \n",
      "4X1 - 8X2 = -24\n",
      "X1 + 6X2 = 174\n",
      "\n",
      "Las Soluciones son: \n",
      "X1=  39 \tX2=  22.5\n",
      "\n",
      "Sustituyendo Valores Tenemos:\n",
      "4(39.0) - 8(22.5) = -24.0\n",
      "39.0 + 6(22.5) = 174.0\n"
     ]
    }
   ],
   "source": [
    "from matplotlib import pyplot as plt\n",
    "\n",
    "def f1(x1, x2):\n",
    "        return 4 * x1 - 8 * x2\n",
    "\n",
    "def f2(x1, x2):\n",
    "        return x1 + 6 * x2\n",
    "\n",
    "def f1_d(x1):\n",
    "        return (-24 - 4 * x1) / -8.0\n",
    "\n",
    "def f2_d(x1):\n",
    "        return (174 - x1) / 6.0\n",
    "\n",
    "print \"Sistema Ecuaciones Dado: \"\n",
    "print \"4X1 - 8X2 = -24\\nX1 + 6X2 = 174\"\n",
    "\n",
    "val_f1 = []\n",
    "val_f2 = []\n",
    "x = []\n",
    "\n",
    "for i in range(0,50):\n",
    "        x.append(i)\n",
    "        val_f1.append(f1_d(i))\n",
    "        val_f2.append(f2_d(i))\n",
    "\n",
    "for i in range(0,50):\n",
    "        if val_f1[i] == val_f2[i]:\n",
    "            x1, x2 = (x[i], val_f2[i])\n",
    "            break\n",
    "\n",
    "print \"\\nLas Soluciones son: \"\n",
    "print \"X1= \", x1, \"\\tX2= \", x2\n",
    "print \"\\nSustituyendo Valores Tenemos:\"\n",
    "print \"4(%.1f) - 8(%.1f) = %.1f\" % (x1, x2, f1(x1,x2))\n",
    "print \"%.1f + 6(%.1f) = %.1f\" % (x1, x2, f2(x1, x2))\n",
    "\n",
    "plt.figure(u\"Solución Gráfica Ej_9,4\")\n",
    "plt.title(u\"Solución Gráfica\")\n",
    "gf1, = plt.plot(x, val_f1, label= \"4X1 - 8X2 = -24\")\n",
    "gf2, = plt.plot(x, val_f2, label= \"X1 + 6X2 = 174\")\n",
    "plt.legend(handles=[gf1, gf2], loc= 4)\n",
    "plt.grid(True)\n",
    "plt.show()\n",
    "\n"
   ]
  },
  {
   "cell_type": "code",
   "execution_count": null,
   "metadata": {
    "collapsed": true
   },
   "outputs": [],
   "source": []
  }
 ],
 "metadata": {
  "kernelspec": {
   "display_name": "Python 2",
   "language": "python",
   "name": "python2"
  },
  "language_info": {
   "codemirror_mode": {
    "name": "ipython",
    "version": 2
   },
   "file_extension": ".py",
   "mimetype": "text/x-python",
   "name": "python",
   "nbconvert_exporter": "python",
   "pygments_lexer": "ipython2",
   "version": "2.7.10"
  }
 },
 "nbformat": 4,
 "nbformat_minor": 0
}
